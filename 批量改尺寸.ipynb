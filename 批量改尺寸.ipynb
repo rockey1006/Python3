{
  "nbformat": 4,
  "nbformat_minor": 0,
  "metadata": {
    "colab": {
      "name": "批量改尺寸.ipynb",
      "provenance": [],
      "authorship_tag": "ABX9TyNBkCGDy5FcVzuk2wxSyzMI",
      "include_colab_link": true
    },
    "kernelspec": {
      "name": "python3",
      "display_name": "Python 3"
    },
    "language_info": {
      "name": "python"
    },
    "accelerator": "GPU"
  },
  "cells": [
    {
      "cell_type": "markdown",
      "metadata": {
        "id": "view-in-github",
        "colab_type": "text"
      },
      "source": [
        "<a href=\"https://colab.research.google.com/github/rockey1006/Python3/blob/master/%E6%89%B9%E9%87%8F%E6%94%B9%E5%B0%BA%E5%AF%B8.ipynb\" target=\"_parent\"><img src=\"https://colab.research.google.com/assets/colab-badge.svg\" alt=\"Open In Colab\"/></a>"
      ]
    },
    {
      "cell_type": "code",
      "metadata": {
        "colab": {
          "base_uri": "https://localhost:8080/"
        },
        "id": "b3SS_5lGBFj1",
        "outputId": "a988fc8b-1aa3-4cb3-a935-197b79a53e3f"
      },
      "source": [
        "\n",
        "from google.colab import drive\n",
        "drive.mount('/content/drive')"
      ],
      "execution_count": 1,
      "outputs": [
        {
          "output_type": "stream",
          "text": [
            "Mounted at /content/drive\n"
          ],
          "name": "stdout"
        }
      ]
    },
    {
      "cell_type": "code",
      "metadata": {
        "id": "8T5bLYG_CPcF"
      },
      "source": [
        "\n",
        "from zipfile import ZipFile\n",
        "with ZipFile('/content/drive/MyDrive/1.recon.zip', 'r') as zipObj:\n",
        "   # Extract all the contents of zip file in different directory\n",
        "   zipObj.extractall('/1')"
      ],
      "execution_count": 2,
      "outputs": []
    },
    {
      "cell_type": "code",
      "metadata": {
        "id": "fm3gB1YqCf0b"
      },
      "source": [
        "from PIL import Image\n",
        "import os.path\n",
        "import glob\n",
        "def convertpng(pngfile,outdir,width=128,height=128):\n",
        "    img=Image.open(pngfile)\n",
        "    try:\n",
        "        new_img=img.resize((width,height),Image.BILINEAR)   \n",
        "        new_img.save(os.path.join(outdir,os.path.basename(pngfile)))\n",
        "    except Exception as e:\n",
        "        print(e)\n",
        "for pngfile in glob.glob(\"/1/1.recon/*.png\"):\n",
        "    convertpng(pngfile,\"/content/recon\")\n",
        "\n"
      ],
      "execution_count": 6,
      "outputs": []
    }
  ]
}