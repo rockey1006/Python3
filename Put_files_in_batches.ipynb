{
  "nbformat": 4,
  "nbformat_minor": 0,
  "metadata": {
    "colab": {
      "name": "Put files in batches.ipynb",
      "provenance": [],
      "authorship_tag": "ABX9TyMYmQMw+0rGUrYQYSI+TYrx",
      "include_colab_link": true
    },
    "kernelspec": {
      "name": "python3",
      "display_name": "Python 3"
    }
  },
  "cells": [
    {
      "cell_type": "markdown",
      "metadata": {
        "id": "view-in-github",
        "colab_type": "text"
      },
      "source": [
        "<a href=\"https://colab.research.google.com/github/rockey1006/Python3/blob/master/Put_files_in_batches.ipynb\" target=\"_parent\"><img src=\"https://colab.research.google.com/assets/colab-badge.svg\" alt=\"Open In Colab\"/></a>"
      ]
    },
    {
      "cell_type": "code",
      "metadata": {
        "id": "nODdXcpZgQ_r"
      },
      "source": [
        "#循环新建文件夹\n",
        "import os\n",
        " \n",
        " \n",
        "def mkd():\n",
        "    path = \"/content/new4/\" \n",
        "    if not os.path.exists(path):\n",
        "        os.makedirs(path)\n",
        "    for i in range(1, 10):\n",
        "        k = \"%02d\" % i\n",
        "        file_name = path + 'batch'+str(k) \n",
        "        os.makedirs(file_name)\n",
        "        i = i+1\n",
        "        \n",
        "        \n",
        "mkd()"
      ],
      "execution_count": 111,
      "outputs": []
    },
    {
      "cell_type": "code",
      "metadata": {
        "colab": {
          "base_uri": "https://localhost:8080/"
        },
        "id": "MwwWOghsVwg9",
        "outputId": "2278001d-9431-4ed4-ac8e-5e19f5377f7f"
      },
      "source": [
        "\n",
        "from google.colab import drive\n",
        "drive.mount('/content/drive')"
      ],
      "execution_count": 97,
      "outputs": [
        {
          "output_type": "stream",
          "text": [
            "Drive already mounted at /content/drive; to attempt to forcibly remount, call drive.mount(\"/content/drive\", force_remount=True).\n"
          ],
          "name": "stdout"
        }
      ]
    },
    {
      "cell_type": "code",
      "metadata": {
        "id": "GkNAOg87VtZn"
      },
      "source": [
        "from zipfile import ZipFile\n",
        "with ZipFile('/content/drive/MyDrive/person13.zip', 'r') as zipObj:\n",
        "   # Extract all the contents of zip file in different directory\n",
        "   zipObj.extractall('person014')"
      ],
      "execution_count": 102,
      "outputs": []
    },
    {
      "cell_type": "code",
      "metadata": {
        "id": "CEB0Yii8VtuX"
      },
      "source": [
        ""
      ],
      "execution_count": null,
      "outputs": []
    },
    {
      "cell_type": "code",
      "metadata": {
        "id": "LCwVUZ_cQWlz"
      },
      "source": [
        "#删除空文件夹\n",
        "import os,sys\n",
        "path = \"/content/person014/person13/\"\n",
        "for name_file in os.listdir(path):\n",
        "  print((name_file))\n",
        "  pathn = os.path.join(path, name_file)\n",
        "  if os.path.isdir(pathn):  \n",
        "    os.removedirs(pathn)\n"
      ],
      "execution_count": null,
      "outputs": []
    },
    {
      "cell_type": "code",
      "metadata": {
        "id": "ZCIy5YdGQiZL"
      },
      "source": [
        "#分批文件50一个batch\n",
        "import os,sys\n",
        "import random\n",
        "import shutil\n",
        "from PIL import Image\n",
        " \n",
        "\n",
        "def copyfile(srcPath,dstPath):\n",
        "   \n",
        "    count = 0\n",
        "    batchcount=1\n",
        "    for name_file in os.listdir(srcPath):      \n",
        "\n",
        "\n",
        "        if ( count%50!=0 ):\n",
        "          \n",
        "          path = os.path.join(srcPath+str(name_file))\n",
        "          \n",
        "          with open(path, 'rb') as rstream:\n",
        "            container = rstream.read()\n",
        "           \n",
        "            path2 = os.path.join(dstPath+'batch0'+str(batchcount)+'/'+str(name_file))\n",
        "            with open(path2, 'wb') as wstream:\n",
        "              wstream.write(container)\n",
        "        else:\n",
        "          batchcount+=1\n",
        "       \n",
        "        \n",
        "          \n",
        "        count+=1\n",
        "    \n",
        "\n",
        " \n",
        "\n",
        " \n",
        "\n",
        "srcPath=\"/content/person014/person13/\"\n",
        "dstPath =  \"/content/new4/\" "
      ],
      "execution_count": 114,
      "outputs": []
    },
    {
      "cell_type": "code",
      "metadata": {
        "id": "SX3OhqBLwh7u"
      },
      "source": [
        "copyfile(srcPath,dstPath)\n"
      ],
      "execution_count": 115,
      "outputs": []
    }
  ]
}