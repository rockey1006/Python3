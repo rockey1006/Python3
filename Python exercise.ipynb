{
 "cells": [
  {
   "cell_type": "code",
   "execution_count": 2,
   "metadata": {},
   "outputs": [
    {
     "name": "stdout",
     "output_type": "stream",
     "text": [
      "Hello World\n"
     ]
    }
   ],
   "source": [
    "print(\"Hello World\")#打印"
   ]
  },
  {
   "cell_type": "code",
   "execution_count": 5,
   "metadata": {},
   "outputs": [
    {
     "name": "stdout",
     "output_type": "stream",
     "text": [
      "300 John\n"
     ]
    }
   ],
   "source": [
    "a = 100\n",
    "b = 200\n",
    "c = \"John\"\n",
    "print(a+b,c)#打印变量，前面不需要加数据类型"
   ]
  },
  {
   "cell_type": "code",
   "execution_count": 6,
   "metadata": {},
   "outputs": [
    {
     "name": "stdout",
     "output_type": "stream",
     "text": [
      "300 John\n"
     ]
    }
   ],
   "source": [
    "a,b,c = 100,200,\"John\"#可以一行为多个变量赋值\n",
    "c = \"John\"\n",
    "print(a+b,c)"
   ]
  },
  {
   "cell_type": "code",
   "execution_count": 6,
   "metadata": {},
   "outputs": [
    {
     "name": "stdout",
     "output_type": "stream",
     "text": [
      "bcde\n",
      "['ad', 'df', 1000, 5, 1, 4]\n",
      "2\n",
      "3\n",
      "{'b': '2', 'a': 2, 3: 3, 'c': '3'}\n"
     ]
    },
    {
     "data": {
      "text/plain": [
       "dict"
      ]
     },
     "execution_count": 6,
     "metadata": {},
     "output_type": "execute_result"
    }
   ],
   "source": [
    "\"\"\"\n",
    "Python有五个标准的数据类型：\n",
    "Numbers（数字）\n",
    "String（字符串）\n",
    "List（列表）\n",
    "Tuple（元组）\n",
    "Dictionary（字典）\n",
    "数字数据类型用于存储数值。\n",
    "当你指定一个值时，Number对象就会被创建。\n",
    "变量名相当于指针\n",
    "内存机制：\n",
    "1、变量，通过变量指针引用对象\n",
    "　　变量指针指向具体对象的内存空间，取对象的值。\n",
    "2、对象，类型已知，每个对象都包含一个头部信息（头部信息：类型标识符和引用计数器）\n",
    "注意：\n",
    "　　变量名没有类型，类型属于对象（因为变量引用对象，所以类型随对象），变量引用什么类型的对象，变量就是什么类型的。\n",
    "\n",
    "\"\"\"\n",
    "#Python字符串,如果你要实现从字符串中获取一段子字符串的话，可以使用 [头下标:尾下标] 来截取相应的字符串，\n",
    "#其中下标是从 0 开始算起，可以是正数或负数，下标可以为空表示取到头或尾。[头下标:尾下标] 获取的子字符串包含头下标的字符，但不包含尾下标的字符。\n",
    "\n",
    "#String\n",
    "a = \"abcde\"\n",
    "a[1:5]\n",
    "#如果打印以冒号分隔的字符串，python 返回一个新的对象，结果包含了以这对偏移标识的连续的内容\n",
    "print(a[1:5])#括号内为新的对象\n",
    "\n",
    "#List,列表用 [ ] 标识，是复合数据类型。列表中值的切割也可以用到变量 [头下标:尾下标] \n",
    "a = [\"abs\",200,123,\"a\",\"c\",\"millan\"]\n",
    "a[1:5]\n",
    "\n",
    "#元组，元组是另一个数据类型，类似于List（列表）。元组用\"()\"标识。内部元素用逗号隔开。但是元组不能二次赋值，相当于只读列表。\n",
    "\n",
    "a = (\"ad\",\"df\",23,5,1,4)\n",
    "b = [\"ad\",\"df\",23,5,1,4]\n",
    "b[2]=1000 #List可以更新内容，元组不行\n",
    "print(b)\n",
    "\n",
    "#字典(dictionary)是除列表以外python之中最灵活的内置数据结构类型。列表是有序的对象集合，字典是无序的对象集合。\n",
    "#两者之间的区别在于：字典当中的元素是通过键来存取的，而不是通过偏移存取。字典用\"{ }\"标识。字典由索引(key)和它对应的值value组成。\n",
    "#键必须是唯一的，但值则不必。值可以取任何数据类型，但键必须是不可变的，如字符串，数字或元组。\n",
    "\n",
    "\n",
    "a = {\"a\":\"1\",\"b\":\"2\",\"c\":\"3\",3:\"g\"}\n",
    "a[\"a\"]=2\n",
    "print(a[\"a\"])\n",
    "a[3]=3\n",
    "print(a[3])\n",
    "print(a)\n",
    "type(a)"
   ]
  },
  {
   "cell_type": "code",
   "execution_count": null,
   "metadata": {},
   "outputs": [],
   "source": [
    "\"\"\"\n",
    "集合（set）是一个无序的不重复元素序列。\n",
    "\n",
    "可以使用大括号 { } 或者 set() 函数创建集合，注意：创建一个空集合必须用 set() 而不是 { }，因为 { } 是用来创建一个空字典。\n",
    "\"\"\"\n",
    "\n",
    "\n",
    "\n",
    "\n",
    "\n"
   ]
  }
 ],
 "metadata": {
  "kernelspec": {
   "display_name": "Python 3",
   "language": "python",
   "name": "python3"
  },
  "language_info": {
   "codemirror_mode": {
    "name": "ipython",
    "version": 3
   },
   "file_extension": ".py",
   "mimetype": "text/x-python",
   "name": "python",
   "nbconvert_exporter": "python",
   "pygments_lexer": "ipython3",
   "version": "3.5.6"
  }
 },
 "nbformat": 4,
 "nbformat_minor": 2
}
