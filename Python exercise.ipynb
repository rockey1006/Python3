{
 "cells": [
  {
   "cell_type": "code",
   "execution_count": 2,
   "metadata": {},
   "outputs": [
    {
     "name": "stdout",
     "output_type": "stream",
     "text": [
      "Hello World\n"
     ]
    }
   ],
   "source": [
    "print(\"Hello World\")#打印"
   ]
  },
  {
   "cell_type": "code",
   "execution_count": 12,
   "metadata": {},
   "outputs": [
    {
     "data": {
      "text/plain": [
       "'John'"
      ]
     },
     "execution_count": 12,
     "metadata": {},
     "output_type": "execute_result"
    }
   ],
   "source": [
    "a = 100\n",
    "b = 200\n",
    "c = \"John\"\n",
    "a #可以不用写print,但是只能打印一个\n",
    "b\n",
    "c\n",
    "#print(a+b,c)#打印变量，前面不需要加数据类型"
   ]
  },
  {
   "cell_type": "code",
   "execution_count": 6,
   "metadata": {},
   "outputs": [
    {
     "name": "stdout",
     "output_type": "stream",
     "text": [
      "300 John\n"
     ]
    }
   ],
   "source": [
    "a,b,c = 100,200,\"John\"#可以一行为多个变量赋值\n",
    "c = \"John\"\n",
    "print(a+b,c)"
   ]
  },
  {
   "cell_type": "code",
   "execution_count": 6,
   "metadata": {},
   "outputs": [
    {
     "name": "stdout",
     "output_type": "stream",
     "text": [
      "bcde\n",
      "['ad', 'df', 1000, 5, 1, 4]\n",
      "2\n",
      "3\n",
      "{'b': '2', 'a': 2, 3: 3, 'c': '3'}\n"
     ]
    },
    {
     "data": {
      "text/plain": [
       "dict"
      ]
     },
     "execution_count": 6,
     "metadata": {},
     "output_type": "execute_result"
    }
   ],
   "source": [
    "\"\"\"\n",
    "Python有五个标准的数据类型：\n",
    "Numbers（数字）\n",
    "String（字符串）\n",
    "List（列表）\n",
    "Tuple（元组）\n",
    "Dictionary（字典）\n",
    "数字数据类型用于存储数值。\n",
    "当你指定一个值时，Number对象就会被创建。\n",
    "变量名相当于指针\n",
    "内存机制：\n",
    "1、变量，通过变量指针引用对象\n",
    "　　变量指针指向具体对象的内存空间，取对象的值。\n",
    "2、对象，类型已知，每个对象都包含一个头部信息（头部信息：类型标识符和引用计数器）\n",
    "注意：\n",
    "　　变量名没有类型，类型属于对象（因为变量引用对象，所以类型随对象），变量引用什么类型的对象，变量就是什么类型的。\n",
    "\n",
    "\"\"\"\n",
    "#Python字符串,如果你要实现从字符串中获取一段子字符串的话，可以使用 [头下标:尾下标] 来截取相应的字符串，\n",
    "#其中下标是从 0 开始算起，可以是正数或负数，下标可以为空表示取到头或尾。[头下标:尾下标] 获取的子字符串包含头下标的字符，但不包含尾下标的字符。\n",
    "\n",
    "#String\n",
    "a = \"abcde\"\n",
    "a[1:5]\n",
    "#如果打印以冒号分隔的字符串，python 返回一个新的对象，结果包含了以这对偏移标识的连续的内容\n",
    "print(a[1:5])#括号内为新的对象\n",
    "\n",
    "#List,列表用 [ ] 标识，是复合数据类型。列表中值的切割也可以用到变量 [头下标:尾下标] \n",
    "a = [\"abs\",200,123,\"a\",\"c\",\"millan\"]\n",
    "a[1:5]\n",
    "\n",
    "#元组，元组是另一个数据类型，类似于List（列表）。元组用\"()\"标识。内部元素用逗号隔开。但是元组不能二次赋值，相当于只读列表。\n",
    "\n",
    "a = (\"ad\",\"df\",23,5,1,4)\n",
    "b = [\"ad\",\"df\",23,5,1,4]\n",
    "b[2]=1000 #List可以更新内容，元组不行\n",
    "print(b)\n",
    "\n",
    "#字典(dictionary)是除列表以外python之中最灵活的内置数据结构类型。列表是有序的对象集合，字典是无序的对象集合。\n",
    "#两者之间的区别在于：字典当中的元素是通过键来存取的，而不是通过偏移存取。字典用\"{ }\"标识。字典由索引(key)和它对应的值value组成。\n",
    "#键必须是唯一的，但值则不必。值可以取任何数据类型，但键必须是不可变的，如字符串，数字或元组。\n",
    "\n",
    "\n",
    "a = {\"a\":\"1\",\"b\":\"2\",\"c\":\"3\",3:\"g\"}\n",
    "a[\"a\"]=2\n",
    "print(a[\"a\"])\n",
    "a[3]=3\n",
    "print(a[3])\n",
    "print(a)\n",
    "type(a)"
   ]
  },
  {
   "cell_type": "code",
   "execution_count": 2,
   "metadata": {},
   "outputs": [
    {
     "data": {
      "text/plain": [
       "{'a', 'b', 'c', 'd', 'e'}"
      ]
     },
     "execution_count": 2,
     "metadata": {},
     "output_type": "execute_result"
    }
   ],
   "source": [
    "\"\"\"\n",
    "数据结构之集合（set）是一个无序的不重复元素序列。\n",
    "\n",
    "可以使用大括号 { } 或者 set() 函数创建集合，注意：创建一个空集合必须用 set() 而不是 { }，因为 { } 是用来创建一个空字典。\n",
    "parame = {value01,value02,...}\n",
    "或者\n",
    "set(value)\n",
    "\"\"\"\n",
    "a = {\"a\",\"b\",\"c\",\"d\",\"e\"}\n",
    "b = set(\"abcdefg\")\n",
    "\n",
    "a\n",
    "\n"
   ]
  },
  {
   "cell_type": "code",
   "execution_count": 2,
   "metadata": {},
   "outputs": [
    {
     "data": {
      "text/plain": [
       "True"
      ]
     },
     "execution_count": 2,
     "metadata": {},
     "output_type": "execute_result"
    }
   ],
   "source": [
    "\"a\" in a #判断元素是否在集合内"
   ]
  },
  {
   "cell_type": "code",
   "execution_count": 20,
   "metadata": {},
   "outputs": [
    {
     "name": "stdout",
     "output_type": "stream",
     "text": [
      "dogs\n"
     ]
    }
   ],
   "source": [
    "#条件判断\n",
    "\"\"\"\n",
    "if condition_1:\n",
    "    statement_block_1\n",
    "elif condition_2:\n",
    "    statement_block_2\n",
    "else:\n",
    "    statement_block_3\n",
    "    \n",
    "1、每个条件后面要使用冒号 :，表示接下来是满足条件后要执行的语句块。\n",
    "2、使用缩进来划分语句块，相同缩进数的语句在一起组成一个语句块。\n",
    "3、在Python中没有switch – case语句。\n",
    "\"\"\"\n",
    "a = 0\n",
    "if a<10:\n",
    "    print(\"dogs\")\n"
   ]
  },
  {
   "cell_type": "code",
   "execution_count": 21,
   "metadata": {},
   "outputs": [
    {
     "name": "stdout",
     "output_type": "stream",
     "text": [
      "1\n",
      "1\n",
      "1\n"
     ]
    }
   ],
   "source": [
    "#循环:Python中的循环语句有 for 和 while。\n",
    "\"\"\"\n",
    "while 判断条件：\n",
    "    语句\n",
    "\"\"\"\n",
    "a = 0\n",
    "while a<3:\n",
    "    print(\"1\")\n",
    "    a=a+1\n",
    "    "
   ]
  },
  {
   "cell_type": "code",
   "execution_count": 22,
   "metadata": {},
   "outputs": [
    {
     "name": "stdout",
     "output_type": "stream",
     "text": [
      "1\n",
      "1\n",
      "1\n",
      "2\n"
     ]
    }
   ],
   "source": [
    "#在 while … else 在条件语句为 false 时执行 else 的语句块：\n",
    "\n",
    "a = 0\n",
    "while a<3:\n",
    "    print(\"1\")\n",
    "    a=a+1\n",
    "else:\n",
    "    print(\"2\")"
   ]
  },
  {
   "cell_type": "code",
   "execution_count": 8,
   "metadata": {},
   "outputs": [
    {
     "name": "stdout",
     "output_type": "stream",
     "text": [
      "3\n",
      "7\n",
      "2\n",
      "5\n",
      "6\n",
      "1\n",
      "4\n"
     ]
    }
   ],
   "source": [
    "\"\"\"\n",
    "Python for循环可以遍历任何序列的项目，如一个列表或者一个字符串。\n",
    "\n",
    "for循环的一般格式如下：\n",
    "for item in sequence:\n",
    "    expressions\n",
    "sequence 为可迭代的对象，item 为序列中的每个对象。\n",
    "\"\"\"\n",
    "a = {1,2,3,4,5,6,7}\n",
    "b = set(\"1234567\")#无序\n",
    "c = [1,2,3,4,5,6,7]#有序list\n",
    "d = (1,2,3,4,5,6,7)#有序只读tuple\n",
    "for x in b:\n",
    "    print(x)\n"
   ]
  },
  {
   "cell_type": "code",
   "execution_count": 9,
   "metadata": {},
   "outputs": [
    {
     "name": "stdout",
     "output_type": "stream",
     "text": [
      "1\n",
      "2\n"
     ]
    }
   ],
   "source": [
    "#range使用\n",
    "\"\"\"\n",
    "在 Python 内置了工厂函数，range 函数将会返回一个序列，总共有三种使用方法\n",
    "\n",
    "1range(start, stop)\n",
    "其中 start 将会是序列的起始值，stop为结束值，但是不包括该值\n",
    "3 range(start, stop, step)\n",
    "\n",
    "\"\"\"\n",
    "for x in range(1,3):\n",
    "    print(x)"
   ]
  },
  {
   "cell_type": "code",
   "execution_count": 11,
   "metadata": {},
   "outputs": [
    {
     "name": "stdout",
     "output_type": "stream",
     "text": [
      "c you\n",
      "b love\n",
      "a i\n"
     ]
    }
   ],
   "source": [
    "# for 创建并遍历字典\n",
    "a = {}\n",
    "a[\"a\"]=\"i\"\n",
    "a[\"b\"]=\"love\"\n",
    "a[\"c\"]=\"you\"\n",
    "for key in a:\n",
    "    print(key,a[key])"
   ]
  },
  {
   "cell_type": "code",
   "execution_count": 13,
   "metadata": {},
   "outputs": [
    {
     "name": "stdout",
     "output_type": "stream",
     "text": [
      "my name is mary,i am 15 years old\n"
     ]
    }
   ],
   "source": [
    "#Python补充05 字符串格式化 (%操作符)\n",
    "# %s    字符串 \n",
    "# %d    十进制整数\n",
    "\n",
    "print(\"my name is %s,i am %d years old\" % (\"mary\",15)) #3个%"
   ]
  },
  {
   "cell_type": "code",
   "execution_count": 16,
   "metadata": {},
   "outputs": [
    {
     "name": "stdout",
     "output_type": "stream",
     "text": [
      "1,2,3,4,5,6,7,"
     ]
    }
   ],
   "source": [
    "# Python3 迭代器与生成器\n",
    "#关键字end可以用于将结果输出到同一行，或者在输出的末尾添加不同的字符，实例如下：\n",
    "\"\"\"\n",
    "概念：迭代器是对集合内元素的一种访问方式\n",
    "\n",
    "    特点：\n",
    "\n",
    "        a.迭代器对象从可迭代对象的第一个元素开始访问，直到迭代完所有元素\n",
    "\n",
    "        b.迭代器在迭代过程中只能往前迭代，不能回退\n",
    "\n",
    "        c.迭代器和经典的for循环相比，没有下标，但可以使用内建函数enumreat()获取索引\n",
    "\n",
    "        d.迭代器是非线程安全的，因此应尽量使用不可变集合\n",
    "\n",
    "        e.迭代器不需要事先准备好所有元素，它本身会迭代到哪儿计算到哪，对程序的内存机制做出优化，又称惰性求值\n",
    "\n",
    "        f.迭代器提供了一个统一的集合的接口，只要实现_iter_()方法的对象便可以使用迭代器进行访问\n",
    "\n",
    "\n",
    "\"\"\"\n",
    "list = [1,2,3,4,5,6,7]\n",
    "it = iter(list)\n",
    "for x in it:\n",
    "    print(x,end=\",\")\n",
    "\n"
   ]
  },
  {
   "cell_type": "code",
   "execution_count": 20,
   "metadata": {},
   "outputs": [
    {
     "data": {
      "text/plain": [
       "12"
      ]
     },
     "execution_count": 20,
     "metadata": {},
     "output_type": "execute_result"
    }
   ],
   "source": [
    "#Python 定义函数使用 def 关键字，一般格式如下：\n",
    "\"\"\"\n",
    "def 函数名（参数列表）:\n",
    "    函数体\n",
    "\"\"\"\n",
    "def area(len,width):\n",
    "    return len*width\n",
    "\n",
    "area(3,4)"
   ]
  },
  {
   "cell_type": "code",
   "execution_count": null,
   "metadata": {},
   "outputs": [],
   "source": []
  }
 ],
 "metadata": {
  "kernelspec": {
   "display_name": "Python 3",
   "language": "python",
   "name": "python3"
  },
  "language_info": {
   "codemirror_mode": {
    "name": "ipython",
    "version": 3
   },
   "file_extension": ".py",
   "mimetype": "text/x-python",
   "name": "python",
   "nbconvert_exporter": "python",
   "pygments_lexer": "ipython3",
   "version": "3.5.6"
  }
 },
 "nbformat": 4,
 "nbformat_minor": 2
}
