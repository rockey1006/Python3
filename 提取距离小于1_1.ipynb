{
  "nbformat": 4,
  "nbformat_minor": 0,
  "metadata": {
    "colab": {
      "name": "提取距离小于1.1.ipynb",
      "provenance": [],
      "machine_shape": "hm",
      "authorship_tag": "ABX9TyNFw3CJ9V1Y5o9w4VSQmNe4",
      "include_colab_link": true
    },
    "kernelspec": {
      "name": "python3",
      "display_name": "Python 3"
    },
    "language_info": {
      "name": "python"
    },
    "accelerator": "GPU"
  },
  "cells": [
    {
      "cell_type": "markdown",
      "metadata": {
        "id": "view-in-github",
        "colab_type": "text"
      },
      "source": [
        "<a href=\"https://colab.research.google.com/github/rockey1006/Python3/blob/master/%E6%8F%90%E5%8F%96%E8%B7%9D%E7%A6%BB%E5%B0%8F%E4%BA%8E1_1.ipynb\" target=\"_parent\"><img src=\"https://colab.research.google.com/assets/colab-badge.svg\" alt=\"Open In Colab\"/></a>"
      ]
    },
    {
      "cell_type": "code",
      "metadata": {
        "colab": {
          "base_uri": "https://localhost:8080/"
        },
        "id": "6txhLTcgilp8",
        "outputId": "420c283c-e378-4d2c-cc02-a0741c7dccc9"
      },
      "source": [
        "\n",
        "from google.colab import drive\n",
        "drive.mount('/content/drive')"
      ],
      "execution_count": 1,
      "outputs": [
        {
          "output_type": "stream",
          "text": [
            "Mounted at /content/drive\n"
          ],
          "name": "stdout"
        }
      ]
    },
    {
      "cell_type": "code",
      "metadata": {
        "id": "rdwOIzVyiwgp"
      },
      "source": [
        "from zipfile import ZipFile\n",
        "with ZipFile('/content/drive/MyDrive/LFW_VERIFIED0128/batch002_verified.zip', 'r') as zipObj:\n",
        "   # Extract all the contents of zip file in different directory\n",
        "   zipObj.extractall('/')"
      ],
      "execution_count": 4,
      "outputs": []
    },
    {
      "cell_type": "code",
      "metadata": {
        "id": "9DAjrAPyjmL8"
      },
      "source": [
        "import os\n",
        "\n",
        "\n",
        "srcPath = '/content/batch002_verified/'\n",
        "for name_file in os.listdir(srcPath):\n",
        "  for file in os.listdir(srcPath+name_file):    \n",
        "    if os.path.isfile(os.path.join(srcPath+name_file,file))==True:\n",
        "      newname = file + '.png'\n",
        "      os.rename(os.path.join(srcPath+name_file, file), os.path.join(srcPath+name_file, newname))"
      ],
      "execution_count": 5,
      "outputs": []
    },
    {
      "cell_type": "code",
      "metadata": {
        "id": "fSZKrrScjvUx"
      },
      "source": [
        "from zipfile import ZipFile\n",
        "with ZipFile('/content/drive/MyDrive/LFW_one1.zip', 'r') as zipObj:\n",
        "   # Extract all the contents of zip file in different directory\n",
        "   zipObj.extractall('/agumented')"
      ],
      "execution_count": 6,
      "outputs": []
    },
    {
      "cell_type": "code",
      "metadata": {
        "id": "ffsVKFISoj4M"
      },
      "source": [
        "import re\n",
        "regex = re.compile(r'\\d+\\.?\\d*')\n"
      ],
      "execution_count": 20,
      "outputs": []
    },
    {
      "cell_type": "code",
      "metadata": {
        "colab": {
          "base_uri": "https://localhost:8080/"
        },
        "id": "_ruBUrntorwT",
        "outputId": "d50b2aaf-7abc-497d-f307-fe4db60865af"
      },
      "source": [
        "import os\n",
        "\n",
        "\n",
        "srcPath = '/content/batch002_verified/'\n",
        "for name_file in os.listdir(srcPath):\n",
        "   for file in os.listdir(srcPath+name_file):  \n",
        "     for x in  regex.findall(file): \n",
        "       if float(x)<1.1:\n",
        "           print(float(x))\n"
      ],
      "execution_count": 38,
      "outputs": [
        {
          "output_type": "stream",
          "text": [
            "1.0123434\n",
            "1.0409927\n",
            "1.0330471\n",
            "1.0351901\n",
            "0.0\n",
            "0.0\n",
            "0.0\n",
            "1.0467341\n",
            "1.0670942\n",
            "1.0783002\n",
            "1.0899035\n",
            "0.9154196\n",
            "0.9389492\n",
            "0.99599636\n",
            "0.94025046\n",
            "1.047527\n",
            "0.0\n",
            "0.9844793\n",
            "1.0319294\n",
            "0.96180886\n",
            "0.0\n",
            "1.082304\n",
            "1.0788555\n",
            "1.0645273\n",
            "0.94906\n",
            "0.9811852\n",
            "1.0786566\n",
            "0.93562526\n",
            "1.0397512\n",
            "1.0921913\n",
            "0.0\n",
            "0.0\n",
            "1.018794\n",
            "1.0286545\n",
            "1.0371195\n"
          ],
          "name": "stdout"
        }
      ]
    },
    {
      "cell_type": "code",
      "metadata": {
        "id": "QIn2FVsDnu49"
      },
      "source": [
        " \n",
        "\n",
        "srcPath=\"/content/batch002_verified/\"\n",
        "dstPath =  \"/agumented/content/LFW_one1/\"\n",
        "def copyfile(srcPath,dstPath):\n",
        "   \n",
        "    \n",
        "    for name_file in os.listdir(dstPath):\n",
        "      keyword=name_file\n",
        "      #print(keyword)\n",
        "      for name_file1 in os.listdir(srcPath):\n",
        "        if keyword in name_file1:\n",
        "          #print(keyword)\n",
        "          count=0\n",
        "          count2 = 200\n",
        "          for file in os.listdir(srcPath+name_file1):\n",
        "            path = os.path.join(srcPath+str(name_file1)+'/'+file)\n",
        "            with open(path, 'rb') as rstream:\n",
        "              container = rstream.read()\n",
        "              path2 = os.path.join(dstPath+str(name_file)+'/'+ str(name_file)+'_0%3d'%(count2)+'_0.png')\n",
        "              print(path2)\n",
        "              if count <9:\n",
        "                \n",
        "                with open(path2, 'wb') as wstream:\n",
        "                  wstream.write(container)\n",
        "                  count2+=1\n",
        "                  count+=1\n",
        "            "
      ],
      "execution_count": null,
      "outputs": []
    }
  ]
}