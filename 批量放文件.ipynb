{
  "nbformat": 4,
  "nbformat_minor": 0,
  "metadata": {
    "colab": {
      "name": "Untitled48.ipynb",
      "provenance": [],
      "machine_shape": "hm",
      "authorship_tag": "ABX9TyPNBwW6pBvFakO913R3Ph7S",
      "include_colab_link": true
    },
    "kernelspec": {
      "name": "python3",
      "display_name": "Python 3"
    },
    "accelerator": "GPU"
  },
  "cells": [
    {
      "cell_type": "markdown",
      "metadata": {
        "id": "view-in-github",
        "colab_type": "text"
      },
      "source": [
        "<a href=\"https://colab.research.google.com/github/rockey1006/Python3/blob/master/%E6%89%B9%E9%87%8F%E6%94%BE%E6%96%87%E4%BB%B6.ipynb\" target=\"_parent\"><img src=\"https://colab.research.google.com/assets/colab-badge.svg\" alt=\"Open In Colab\"/></a>"
      ]
    },
    {
      "cell_type": "code",
      "metadata": {
        "colab": {
          "base_uri": "https://localhost:8080/"
        },
        "id": "vhOhcvbSwpqs",
        "outputId": "1e51cc9c-9517-4f1d-8314-aa07a59d5400"
      },
      "source": [
        "from google.colab import drive\r\n",
        "drive.mount('/content/drive')"
      ],
      "execution_count": 1,
      "outputs": [
        {
          "output_type": "stream",
          "text": [
            "Mounted at /content/drive\n"
          ],
          "name": "stdout"
        }
      ]
    },
    {
      "cell_type": "code",
      "metadata": {
        "id": "RBEIOEkzxH3o"
      },
      "source": [
        "from zipfile import ZipFile\r\n",
        "with ZipFile('/content/drive/MyDrive/wrong_pics.zip', 'r') as zipObj:\r\n",
        "   # Extract all the contents of zip file in different directory\r\n",
        "   zipObj.extractall('wrong')"
      ],
      "execution_count": 2,
      "outputs": []
    },
    {
      "cell_type": "code",
      "metadata": {
        "colab": {
          "base_uri": "https://localhost:8080/"
        },
        "id": "WvJgQq-XExh_",
        "outputId": "df29547e-faae-4022-ceba-21b24d19ba49"
      },
      "source": [
        "import glob\r\n",
        "path_file_number=glob.glob('/content/wrong/content/wrong_pics1/*')#或者指定文件下个数\r\n",
        "print(len(path_file_number))"
      ],
      "execution_count": 34,
      "outputs": [
        {
          "output_type": "stream",
          "text": [
            "643\n"
          ],
          "name": "stdout"
        }
      ]
    },
    {
      "cell_type": "code",
      "metadata": {
        "id": "8rwxhXi1xgFX"
      },
      "source": [
        "import os\r\n",
        " \r\n",
        " \r\n",
        "def mkd():\r\n",
        "    path = \"/content/batchwrong/\" \r\n",
        "    if not os.path.exists(path):\r\n",
        "        os.makedirs(path)\r\n",
        "    for i in range(1, 33):\r\n",
        "        k = \"%03d\" % i\r\n",
        "        file_name = path + 'batch'+str(k) \r\n",
        "        os.makedirs(file_name)\r\n",
        "        i = i+1\r\n",
        "        \r\n",
        "        \r\n",
        "mkd()"
      ],
      "execution_count": 42,
      "outputs": []
    },
    {
      "cell_type": "code",
      "metadata": {
        "id": "Qab5-nW1zPb7"
      },
      "source": [
        "import os,sys\r\n",
        "import random\r\n",
        "import shutil\r\n",
        "from PIL import Image\r\n",
        " \r\n",
        "\r\n",
        "def copyfile(srcPath,dstPath):\r\n",
        "   \r\n",
        "    count = 0\r\n",
        "    batchcount=1\r\n",
        "    for name_file in os.listdir(srcPath):      \r\n",
        "\r\n",
        "\r\n",
        "        if ( count%30!=0 ):\r\n",
        "          \r\n",
        "          path = os.path.join(srcPath+str(name_file))\r\n",
        "          \r\n",
        "          with open(path, 'rb') as rstream:\r\n",
        "            container = rstream.read()\r\n",
        "           \r\n",
        "            path2 = os.path.join(dstPath+'batch%03d'%(batchcount) +'/'+str(name_file))\r\n",
        "            with open(path2, 'wb') as wstream:\r\n",
        "              wstream.write(container)\r\n",
        "        else:\r\n",
        "          batchcount+=1\r\n",
        "       \r\n",
        "        \r\n",
        "          \r\n",
        "        count+=1\r\n",
        "    \r\n",
        "\r\n",
        " \r\n",
        "\r\n",
        " \r\n",
        "\r\n",
        "srcPath=\"/content/wrong/content/wrong_pics1/\"\r\n",
        "dstPath =  \"/content/batchwrong/\""
      ],
      "execution_count": 45,
      "outputs": []
    },
    {
      "cell_type": "code",
      "metadata": {
        "id": "rZIuxL5q-EGk"
      },
      "source": [
        "copyfile(srcPath,dstPath)"
      ],
      "execution_count": 46,
      "outputs": []
    },
    {
      "cell_type": "code",
      "metadata": {
        "id": "P5hpz-WEH98D"
      },
      "source": [
        "!zip -r /content/drive/MyDrive/batchwrong.zip /content/batchwrong\r\n"
      ],
      "execution_count": null,
      "outputs": []
    },
    {
      "cell_type": "code",
      "metadata": {
        "id": "WAhUh5M_KpSA"
      },
      "source": [
        ""
      ],
      "execution_count": null,
      "outputs": []
    }
  ]
}