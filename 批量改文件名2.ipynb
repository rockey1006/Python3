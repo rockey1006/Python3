{
  "nbformat": 4,
  "nbformat_minor": 0,
  "metadata": {
    "colab": {
      "name": "批量改文件名2.ipynb",
      "provenance": [],
      "machine_shape": "hm",
      "authorship_tag": "ABX9TyN+nY2qz6bKxgjUiKgQPLdB",
      "include_colab_link": true
    },
    "kernelspec": {
      "name": "python3",
      "display_name": "Python 3"
    },
    "accelerator": "GPU"
  },
  "cells": [
    {
      "cell_type": "markdown",
      "metadata": {
        "id": "view-in-github",
        "colab_type": "text"
      },
      "source": [
        "<a href=\"https://colab.research.google.com/github/rockey1006/Python3/blob/master/%E6%89%B9%E9%87%8F%E6%94%B9%E6%96%87%E4%BB%B6%E5%90%8D2.ipynb\" target=\"_parent\"><img src=\"https://colab.research.google.com/assets/colab-badge.svg\" alt=\"Open In Colab\"/></a>"
      ]
    },
    {
      "cell_type": "code",
      "metadata": {
        "id": "YwQ0Bmu9lswt",
        "colab": {
          "base_uri": "https://localhost:8080/"
        },
        "outputId": "0abd12f0-68af-4bdd-8110-86df47f80733"
      },
      "source": [
        "\r\n",
        "from google.colab import drive\r\n",
        "drive.mount('/content/drive')"
      ],
      "execution_count": 1,
      "outputs": [
        {
          "output_type": "stream",
          "text": [
            "Mounted at /content/drive\n"
          ],
          "name": "stdout"
        }
      ]
    },
    {
      "cell_type": "code",
      "metadata": {
        "id": "5Z1T7vc_mwmH"
      },
      "source": [
        "from zipfile import ZipFile\r\n",
        "with ZipFile('/content/drive/MyDrive/LFW_VERIFIED0128/batch002_verified.zip', 'r') as zipObj:\r\n",
        "   # Extract all the contents of zip file in different directory\r\n",
        "   zipObj.extractall('/')"
      ],
      "execution_count": 2,
      "outputs": []
    },
    {
      "cell_type": "code",
      "metadata": {
        "id": "vom9Qh8InAuT"
      },
      "source": [
        "import os\r\n",
        "\r\n",
        "\r\n",
        "srcPath = '/content/batch002_verified/'\r\n",
        "for name_file in os.listdir(srcPath):\r\n",
        "  for file in os.listdir(srcPath+name_file):    \r\n",
        "    if os.path.isfile(os.path.join(srcPath+name_file,file))==True:\r\n",
        "      newname = file + '.png'\r\n",
        "      os.rename(os.path.join(srcPath+name_file, file), os.path.join(srcPath+name_file, newname))\r\n"
      ],
      "execution_count": 11,
      "outputs": []
    }
  ]
}