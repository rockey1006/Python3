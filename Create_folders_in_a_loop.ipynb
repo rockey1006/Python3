{
  "nbformat": 4,
  "nbformat_minor": 0,
  "metadata": {
    "colab": {
      "name": "Create folders in a loop.ipynb",
      "provenance": [],
      "authorship_tag": "ABX9TyOLFlZBKd8YI+ortPVu7YUq",
      "include_colab_link": true
    },
    "kernelspec": {
      "name": "python3",
      "display_name": "Python 3"
    }
  },
  "cells": [
    {
      "cell_type": "markdown",
      "metadata": {
        "id": "view-in-github",
        "colab_type": "text"
      },
      "source": [
        "<a href=\"https://colab.research.google.com/github/rockey1006/Python3/blob/master/Create_folders_in_a_loop.ipynb\" target=\"_parent\"><img src=\"https://colab.research.google.com/assets/colab-badge.svg\" alt=\"Open In Colab\"/></a>"
      ]
    },
    {
      "cell_type": "code",
      "metadata": {
        "id": "nODdXcpZgQ_r"
      },
      "source": [
        "\n",
        "import os\n",
        " \n",
        " \n",
        "def mkd():\n",
        "    path = \"/content/new/\" \n",
        "    for i in range(1, 9):\n",
        "        k = \"%02d\" % i\n",
        "        file_name = path + 'batch'+str(k) \n",
        "        os.makedirs(file_name)\n",
        "        i = i+1\n",
        "        \n",
        "        \n",
        "mkd()"
      ],
      "execution_count": 7,
      "outputs": []
    },
    {
      "cell_type": "code",
      "metadata": {
        "id": "7JHzM5s4hfUQ"
      },
      "source": [
        ""
      ],
      "execution_count": null,
      "outputs": []
    }
  ]
}